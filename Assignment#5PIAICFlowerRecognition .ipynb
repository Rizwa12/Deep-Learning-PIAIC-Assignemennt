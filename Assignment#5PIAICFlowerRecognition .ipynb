{
  "nbformat": 4,
  "nbformat_minor": 0,
  "metadata": {
    "colab": {
      "name": "Assignment#3PIAICFlowerRecognition.ipynb",
      "provenance": [],
      "collapsed_sections": []
    },
    "kernelspec": {
      "name": "python3",
      "display_name": "Python 3"
    },
    "language_info": {
      "name": "python"
    }
  },
  "cells": [
    {
      "cell_type": "code",
      "metadata": {
        "id": "iiMSrfBSEeEh"
      },
      "source": [
        "import pandas as pd\n",
        "import matplotlib.pyplot as plt\n",
        "import skimage.io\n",
        "import os \n",
        "import tqdm\n",
        "import glob\n",
        "import tensorflow \n",
        " \n",
        "from tqdm import tqdm\n",
        "from sklearn.utils import shuffle\n",
        "from sklearn.model_selection import train_test_split\n",
        " \n",
        "from skimage.io import imread, imshow\n",
        "from skimage.transform import resize\n",
        "from skimage.color import grey2rgb\n",
        " \n",
        "from tensorflow.keras.preprocessing.image import ImageDataGenerator\n",
        "from tensorflow.keras.models import Sequential\n",
        "from tensorflow.keras.layers import InputLayer, BatchNormalization, Dropout, Flatten, Dense, Activation, MaxPool2D, Conv2D\n",
        "from tensorflow.keras.callbacks import EarlyStopping, ModelCheckpoint\n",
        "from tensorflow.keras.optimizers import  RMSprop\n",
        "from tensorflow.keras.preprocessing.image import load_img, img_to_array"
      ],
      "execution_count": null,
      "outputs": []
    },
    {
      "cell_type": "code",
      "metadata": {
        "colab": {
          "base_uri": "https://localhost:8080/"
        },
        "id": "F0CXq-8NeuWp",
        "outputId": "8c80b01c-fbb4-4584-b942-6c22690da51b"
      },
      "source": [
        "from google.colab import drive\n",
        "drive.mount('/content/drive/')"
      ],
      "execution_count": null,
      "outputs": [
        {
          "output_type": "stream",
          "text": [
            "Mounted at /content/drive/\n"
          ],
          "name": "stdout"
        }
      ]
    },
    {
      "cell_type": "code",
      "metadata": {
        "id": "J2GVT2gssQbF"
      },
      "source": [
        "train_datagen = ImageDataGenerator(rescale=1./255,\n",
        "                                   shear_range = 0.4,\n",
        "                                   zoom_range=0.1,\n",
        "                                   validation_split=0.4,\n",
        "                                   horizontal_flip=True,)"
      ],
      "execution_count": null,
      "outputs": []
    },
    {
      "cell_type": "code",
      "metadata": {
        "colab": {
          "base_uri": "https://localhost:8080/"
        },
        "id": "k7CnnsW8mZhZ",
        "outputId": "a8ff03c6-6da0-427a-8dd8-4338ac1d8170"
      },
      "source": [
        "train_gernator = train_datagen.flow_from_directory(\"/content/drive/MyDrive/flowers\",\n",
        "                                                   target_size=(64,64),\n",
        "                                                   batch_size=20,\n",
        "                                                   class_mode='categorical',\n",
        "                                                   subset='training',\n",
        "                                                   shuffle=True)"
      ],
      "execution_count": null,
      "outputs": [
        {
          "output_type": "stream",
          "text": [
            "Found 2599 images belonging to 5 classes.\n"
          ],
          "name": "stdout"
        }
      ]
    },
    {
      "cell_type": "code",
      "metadata": {
        "colab": {
          "base_uri": "https://localhost:8080/"
        },
        "id": "5WuhYiBUy6Ji",
        "outputId": "bfdf550d-d8b7-486e-eb8c-5458c65adb72"
      },
      "source": [
        "validation_gernator = train_datagen.flow_from_directory(\"/content/drive/MyDrive/flowers\",\n",
        "                                                   target_size=(64,64),\n",
        "                                                   batch_size=20,\n",
        "                                                   class_mode='categorical',\n",
        "                                                   subset='validation',\n",
        "                                                   shuffle=True)"
      ],
      "execution_count": null,
      "outputs": [
        {
          "output_type": "stream",
          "text": [
            "Found 1728 images belonging to 5 classes.\n"
          ],
          "name": "stdout"
        }
      ]
    },
    {
      "cell_type": "code",
      "metadata": {
        "colab": {
          "base_uri": "https://localhost:8080/"
        },
        "id": "5GA4koQhJZxe",
        "outputId": "f1e3f480-01be-4619-fac6-baa37f035401"
      },
      "source": [
        "validation_gernator[2][1]"
      ],
      "execution_count": null,
      "outputs": [
        {
          "output_type": "execute_result",
          "data": {
            "text/plain": [
              "array([[0., 0., 0., 1., 0.],\n",
              "       [0., 0., 0., 0., 1.],\n",
              "       [0., 1., 0., 0., 0.],\n",
              "       [1., 0., 0., 0., 0.],\n",
              "       [0., 1., 0., 0., 0.],\n",
              "       [0., 1., 0., 0., 0.],\n",
              "       [0., 0., 0., 0., 1.],\n",
              "       [0., 1., 0., 0., 0.],\n",
              "       [0., 1., 0., 0., 0.],\n",
              "       [0., 0., 0., 1., 0.],\n",
              "       [0., 0., 0., 0., 1.],\n",
              "       [0., 0., 1., 0., 0.],\n",
              "       [0., 1., 0., 0., 0.],\n",
              "       [0., 0., 0., 0., 1.],\n",
              "       [0., 0., 0., 0., 1.],\n",
              "       [0., 0., 0., 0., 1.],\n",
              "       [1., 0., 0., 0., 0.],\n",
              "       [0., 0., 0., 1., 0.],\n",
              "       [0., 0., 0., 1., 0.],\n",
              "       [0., 0., 0., 0., 1.]], dtype=float32)"
            ]
          },
          "metadata": {
            "tags": []
          },
          "execution_count": 14
        }
      ]
    },
    {
      "cell_type": "code",
      "metadata": {
        "colab": {
          "base_uri": "https://localhost:8080/"
        },
        "id": "ytSEY7gkIQO6",
        "outputId": "961c2784-ca94-42f2-b305-93261aa905ab"
      },
      "source": [
        "validation_gernator.labels"
      ],
      "execution_count": null,
      "outputs": [
        {
          "output_type": "execute_result",
          "data": {
            "text/plain": [
              "array([0, 0, 0, ..., 4, 4, 4], dtype=int32)"
            ]
          },
          "metadata": {
            "tags": []
          },
          "execution_count": 15
        }
      ]
    },
    {
      "cell_type": "code",
      "metadata": {
        "colab": {
          "base_uri": "https://localhost:8080/"
        },
        "id": "4rWYi6AdzDdT",
        "outputId": "6c1190aa-9b55-40ae-ffae-686bac4f42b4"
      },
      "source": [
        "train_gernator.class_indices"
      ],
      "execution_count": null,
      "outputs": [
        {
          "output_type": "execute_result",
          "data": {
            "text/plain": [
              "{'daisy': 0, 'dandelion': 1, 'rose': 2, 'sunflower': 3, 'tulip': 4}"
            ]
          },
          "metadata": {
            "tags": []
          },
          "execution_count": 16
        }
      ]
    },
    {
      "cell_type": "code",
      "metadata": {
        "id": "CYPpqNOA_dCB"
      },
      "source": [
        "\n",
        "import tensorflow as tf\n",
        "from tensorflow.keras.models import Sequential\n",
        "from tensorflow.keras.layers import InputLayer, BatchNormalization, Dropout, Flatten, Dense, Activation, MaxPool2D, Conv2D\n",
        "model = tf.keras.models.Sequential([\n",
        "                                    tf.keras.layers.Conv2D(512,(3,3),activation='relu',input_shape=(64,64,3)),\n",
        "                                    tf.keras.layers.MaxPool2D(2,2),\n",
        "                                    tf.keras.layers.Conv2D(256,(3,3),activation='relu'),\n",
        "                                    tf.keras.layers.MaxPool2D(2,2),\n",
        "                                    tf.keras.layers.Conv2D(128,(3,3),activation='relu'),\n",
        "                                    tf.keras.layers.MaxPool2D(2,2),\n",
        "                                    tf.keras.layers.Conv2D(64,(3,3),activation='relu'),\n",
        "                                    tf.keras.layers.MaxPool2D(2,2),\n",
        "                                    tf.keras.layers.Flatten(),\n",
        "                                    tf.keras.layers.Dropout(0.25),\n",
        "                                    tf.keras.layers.Dense(32,activation='relu'),\n",
        "                                    tf.keras.layers.Dense(5,activation='softmax')])"
      ],
      "execution_count": null,
      "outputs": []
    },
    {
      "cell_type": "code",
      "metadata": {
        "colab": {
          "base_uri": "https://localhost:8080/"
        },
        "id": "RFTJM_B2nju5",
        "outputId": "56e7ee77-3e8b-4d0b-e20e-bce7b1955786"
      },
      "source": [
        "model.summary()"
      ],
      "execution_count": null,
      "outputs": [
        {
          "output_type": "stream",
          "text": [
            "Model: \"sequential_1\"\n",
            "_________________________________________________________________\n",
            "Layer (type)                 Output Shape              Param #   \n",
            "=================================================================\n",
            "conv2d_8 (Conv2D)            (None, 62, 62, 512)       14336     \n",
            "_________________________________________________________________\n",
            "max_pooling2d_4 (MaxPooling2 (None, 31, 31, 512)       0         \n",
            "_________________________________________________________________\n",
            "conv2d_9 (Conv2D)            (None, 29, 29, 256)       1179904   \n",
            "_________________________________________________________________\n",
            "max_pooling2d_5 (MaxPooling2 (None, 14, 14, 256)       0         \n",
            "_________________________________________________________________\n",
            "conv2d_10 (Conv2D)           (None, 12, 12, 128)       295040    \n",
            "_________________________________________________________________\n",
            "max_pooling2d_6 (MaxPooling2 (None, 6, 6, 128)         0         \n",
            "_________________________________________________________________\n",
            "conv2d_11 (Conv2D)           (None, 4, 4, 64)          73792     \n",
            "_________________________________________________________________\n",
            "max_pooling2d_7 (MaxPooling2 (None, 2, 2, 64)          0         \n",
            "_________________________________________________________________\n",
            "flatten_1 (Flatten)          (None, 256)               0         \n",
            "_________________________________________________________________\n",
            "dropout_1 (Dropout)          (None, 256)               0         \n",
            "_________________________________________________________________\n",
            "dense_2 (Dense)              (None, 32)                8224      \n",
            "_________________________________________________________________\n",
            "dense_3 (Dense)              (None, 5)                 165       \n",
            "=================================================================\n",
            "Total params: 1,571,461\n",
            "Trainable params: 1,571,461\n",
            "Non-trainable params: 0\n",
            "_________________________________________________________________\n"
          ],
          "name": "stdout"
        }
      ]
    },
    {
      "cell_type": "code",
      "metadata": {
        "id": "4fpuoCXCMe5w"
      },
      "source": [
        "model.compile(optimizer='rmsprop',loss='categorical_crossentropy',metrics=['accuracy'])"
      ],
      "execution_count": null,
      "outputs": []
    },
    {
      "cell_type": "code",
      "metadata": {
        "colab": {
          "base_uri": "https://localhost:8080/"
        },
        "id": "ax33HSoLM0Pv",
        "outputId": "f2843ba2-ac51-4077-c8c3-f6532dc60b5e"
      },
      "source": [
        "result = model.fit(train_gernator,steps_per_epoch=30,epochs=20,\n",
        "                   validation_data=validation_gernator,\n",
        "                   validation_steps=30)"
      ],
      "execution_count": 31,
      "outputs": [
        {
          "output_type": "stream",
          "text": [
            "Epoch 1/20\n",
            "30/30 [==============================] - 71s 2s/step - loss: 1.0890 - accuracy: 0.5917 - val_loss: 1.6326 - val_accuracy: 0.2967\n",
            "Epoch 2/20\n",
            "30/30 [==============================] - 71s 2s/step - loss: 1.0825 - accuracy: 0.5700 - val_loss: 1.0748 - val_accuracy: 0.5833\n",
            "Epoch 3/20\n",
            "30/30 [==============================] - 71s 2s/step - loss: 1.0623 - accuracy: 0.6077 - val_loss: 1.0206 - val_accuracy: 0.6133\n",
            "Epoch 4/20\n",
            "30/30 [==============================] - 71s 2s/step - loss: 1.0337 - accuracy: 0.5843 - val_loss: 1.0699 - val_accuracy: 0.5650\n",
            "Epoch 5/20\n",
            "30/30 [==============================] - 71s 2s/step - loss: 1.0346 - accuracy: 0.6117 - val_loss: 1.0793 - val_accuracy: 0.5933\n",
            "Epoch 6/20\n",
            "30/30 [==============================] - 71s 2s/step - loss: 1.0434 - accuracy: 0.6383 - val_loss: 1.1042 - val_accuracy: 0.5467\n",
            "Epoch 7/20\n",
            "30/30 [==============================] - 71s 2s/step - loss: 1.0386 - accuracy: 0.5933 - val_loss: 1.3009 - val_accuracy: 0.5333\n",
            "Epoch 8/20\n",
            "30/30 [==============================] - 71s 2s/step - loss: 1.0066 - accuracy: 0.6194 - val_loss: 0.9708 - val_accuracy: 0.6200\n",
            "Epoch 9/20\n",
            "30/30 [==============================] - 71s 2s/step - loss: 0.9742 - accuracy: 0.6367 - val_loss: 1.0501 - val_accuracy: 0.6100\n",
            "Epoch 10/20\n",
            "30/30 [==============================] - 70s 2s/step - loss: 0.9906 - accuracy: 0.6383 - val_loss: 0.9887 - val_accuracy: 0.6433\n",
            "Epoch 11/20\n",
            "30/30 [==============================] - 71s 2s/step - loss: 0.9588 - accuracy: 0.6317 - val_loss: 1.1389 - val_accuracy: 0.5633\n",
            "Epoch 12/20\n",
            "30/30 [==============================] - 71s 2s/step - loss: 0.9922 - accuracy: 0.5967 - val_loss: 0.9723 - val_accuracy: 0.6167\n",
            "Epoch 13/20\n",
            "30/30 [==============================] - 71s 2s/step - loss: 0.9235 - accuracy: 0.6567 - val_loss: 1.0726 - val_accuracy: 0.5833\n",
            "Epoch 14/20\n",
            "30/30 [==============================] - 71s 2s/step - loss: 0.8913 - accuracy: 0.6683 - val_loss: 0.9592 - val_accuracy: 0.6167\n",
            "Epoch 15/20\n",
            "30/30 [==============================] - 71s 2s/step - loss: 0.9648 - accuracy: 0.6400 - val_loss: 0.9633 - val_accuracy: 0.6217\n",
            "Epoch 16/20\n",
            "30/30 [==============================] - 71s 2s/step - loss: 0.9483 - accuracy: 0.6350 - val_loss: 0.9702 - val_accuracy: 0.6267\n",
            "Epoch 17/20\n",
            "30/30 [==============================] - 71s 2s/step - loss: 0.8722 - accuracy: 0.6700 - val_loss: 0.9195 - val_accuracy: 0.6633\n",
            "Epoch 18/20\n",
            "30/30 [==============================] - 70s 2s/step - loss: 0.9616 - accuracy: 0.6600 - val_loss: 1.0630 - val_accuracy: 0.5900\n",
            "Epoch 19/20\n",
            "30/30 [==============================] - 71s 2s/step - loss: 0.8708 - accuracy: 0.6700 - val_loss: 1.0274 - val_accuracy: 0.6300\n",
            "Epoch 20/20\n",
            "30/30 [==============================] - 71s 2s/step - loss: 0.8664 - accuracy: 0.6833 - val_loss: 0.8982 - val_accuracy: 0.6333\n"
          ],
          "name": "stdout"
        }
      ]
    },
    {
      "cell_type": "code",
      "metadata": {
        "colab": {
          "base_uri": "https://localhost:8080/"
        },
        "id": "XoRaO2qJLvMi",
        "outputId": "59413499-cea0-4fac-df23-6817c8ad7d65"
      },
      "source": [
        "model.evaluate(validation_gernator)"
      ],
      "execution_count": 32,
      "outputs": [
        {
          "output_type": "stream",
          "text": [
            "87/87 [==============================] - 46s 526ms/step - loss: 0.9344 - accuracy: 0.6279\n"
          ],
          "name": "stdout"
        },
        {
          "output_type": "execute_result",
          "data": {
            "text/plain": [
              "[0.9343909025192261, 0.6278935074806213]"
            ]
          },
          "metadata": {
            "tags": []
          },
          "execution_count": 32
        }
      ]
    },
    {
      "cell_type": "code",
      "metadata": {
        "colab": {
          "base_uri": "https://localhost:8080/"
        },
        "id": "NT16UGx8akjw",
        "outputId": "a8dc9d23-b3d4-48cf-e1f6-283bf098237b"
      },
      "source": [
        "x = result.history.keys()\n",
        "x"
      ],
      "execution_count": 33,
      "outputs": [
        {
          "output_type": "execute_result",
          "data": {
            "text/plain": [
              "dict_keys(['loss', 'accuracy', 'val_loss', 'val_accuracy'])"
            ]
          },
          "metadata": {
            "tags": []
          },
          "execution_count": 33
        }
      ]
    },
    {
      "cell_type": "code",
      "metadata": {
        "colab": {
          "base_uri": "https://localhost:8080/",
          "height": 573
        },
        "id": "JtHya6lcauFy",
        "outputId": "892b0a0a-1159-48be-a34c-024c3c62becb"
      },
      "source": [
        "from keras.models import Sequential\n",
        "from keras.layers import Dense\n",
        "import matplotlib.pyplot as plt\n",
        "import numpy \n",
        "plt.plot(result.history['accuracy'])\n",
        "plt.plot(result.history['val_accuracy'])\n",
        "plt.title('model accuracy')\n",
        "plt.ylabel('accuracy')\n",
        "plt.xlabel('epoch')\n",
        "plt.legend(['train','test'],loc = 'upper left')\n",
        "plt.show()\n",
        "plt.plot(result.history['loss'])\n",
        "plt.plot(result.history['val_loss'])\n",
        "plt.title('model loss')\n",
        "plt.ylabel('loss')\n",
        "plt.xlabel('epoch')\n",
        "plt.legend(['train','test'],loc = 'upper left')\n",
        "plt.show()\n",
        "\n"
      ],
      "execution_count": 34,
      "outputs": [
        {
          "output_type": "display_data",
          "data": {
            "image/png": "[encoded data removed]",
            "text/plain": [
              "<Figure size 432x288 with 1 Axes>"
            ]
          },
          "metadata": {
            "tags": [],
            "needs_background": "light"
          }
        },
        {
          "output_type": "display_data",
          "data": {
            "image/png": "[encoded data removed]",
            "text/plain": [
              "<Figure size 432x288 with 1 Axes>"
            ]
          },
          "metadata": {
            "tags": [],
            "needs_background": "light"
          }
        }
      ]
    },
    {
      "cell_type": "code",
      "metadata": {
        "id": "3d3bydXNdOZC"
      },
      "source": [
        "import numpy as np\n",
        "y_pred = np.argmax(model.predict(validation_gernator),axis=1)"
      ],
      "execution_count": 35,
      "outputs": []
    },
    {
      "cell_type": "code",
      "metadata": {
        "colab": {
          "base_uri": "https://localhost:8080/"
        },
        "id": "uIelNqJ-dwUz",
        "outputId": "f4928933-19f2-4d04-a5a3-af94b00749fc"
      },
      "source": [
        "y_pred.shape"
      ],
      "execution_count": 36,
      "outputs": [
        {
          "output_type": "execute_result",
          "data": {
            "text/plain": [
              "(1728,)"
            ]
          },
          "metadata": {
            "tags": []
          },
          "execution_count": 36
        }
      ]
    },
    {
      "cell_type": "code",
      "metadata": {
        "colab": {
          "base_uri": "https://localhost:8080/"
        },
        "id": "DmfvDhuOeaR1",
        "outputId": "e6df5c8e-4432-4369-80d0-9debd1ad3e08"
      },
      "source": [
        "validation_gernator[0]"
      ],
      "execution_count": 37,
      "outputs": [
        {
          "output_type": "execute_result",
          "data": {
            "text/plain": [
              "(array([[[[4.70945060e-01, 5.02317607e-01, 3.07166189e-01],\n",
              "          [4.55927193e-01, 5.06126046e-01, 2.97436982e-01],\n",
              "          [4.59374934e-01, 5.51521480e-01, 3.25193882e-01],\n",
              "          ...,\n",
              "          [2.93190658e-01, 3.20641637e-01, 3.52014184e-01],\n",
              "          [2.85445660e-01, 3.12896669e-01, 3.49019617e-01],\n",
              "          [2.68396258e-01, 3.00499469e-01, 3.37389052e-01]],\n",
              " \n",
              "         [[4.70945060e-01, 5.02317607e-01, 3.07166189e-01],\n",
              "          [4.55927193e-01, 5.06126046e-01, 2.97436982e-01],\n",
              "          [4.59374934e-01, 5.51521480e-01, 3.25193882e-01],\n",
              "          ...,\n",
              "          [2.93190658e-01, 3.20641637e-01, 3.52014184e-01],\n",
              "          [2.85445660e-01, 3.12896669e-01, 3.49019617e-01],\n",
              "          [2.68396258e-01, 3.00499469e-01, 3.37389052e-01]],\n",
              " \n",
              "         [[4.70945060e-01, 5.02317607e-01, 3.07166189e-01],\n",
              "          [4.55927193e-01, 5.06126046e-01, 2.97436982e-01],\n",
              "          [4.59374934e-01, 5.51521480e-01, 3.25193882e-01],\n",
              "          ...,\n",
              "          [2.93190658e-01, 3.20641637e-01, 3.52014184e-01],\n",
              "          [2.85445660e-01, 3.12896669e-01, 3.49019617e-01],\n",
              "          [2.68396258e-01, 3.00499469e-01, 3.37389052e-01]],\n",
              " \n",
              "         ...,\n",
              " \n",
              "         [[3.09090376e-01, 3.87378365e-01, 3.42316985e-01],\n",
              "          [3.27540636e-01, 4.38792735e-01, 3.43829155e-01],\n",
              "          [3.12050730e-01, 4.13184434e-01, 3.03380489e-01],\n",
              "          ...,\n",
              "          [3.36684704e-01, 4.89625871e-01, 2.76934117e-01],\n",
              "          [3.53052527e-01, 5.05993724e-01, 2.85557002e-01],\n",
              "          [3.63110453e-01, 5.20703852e-01, 2.94848323e-01]],\n",
              " \n",
              "         [[3.09090376e-01, 3.87378365e-01, 3.42316985e-01],\n",
              "          [3.27540636e-01, 4.38792735e-01, 3.43829155e-01],\n",
              "          [3.12050730e-01, 4.13184434e-01, 3.03380489e-01],\n",
              "          ...,\n",
              "          [3.36684704e-01, 4.89625871e-01, 2.76934117e-01],\n",
              "          [3.53052527e-01, 5.05993724e-01, 2.85557002e-01],\n",
              "          [3.63110453e-01, 5.20703852e-01, 2.94848323e-01]],\n",
              " \n",
              "         [[3.09090376e-01, 3.87378365e-01, 3.42316985e-01],\n",
              "          [3.27540636e-01, 4.38792735e-01, 3.43829155e-01],\n",
              "          [3.12050730e-01, 4.13184434e-01, 3.03380489e-01],\n",
              "          ...,\n",
              "          [3.36684704e-01, 4.89625871e-01, 2.76934117e-01],\n",
              "          [3.53052527e-01, 5.05993724e-01, 2.85557002e-01],\n",
              "          [3.63110453e-01, 5.20703852e-01, 2.94848323e-01]]],\n",
              " \n",
              " \n",
              "        [[[5.27596951e-01, 5.08268297e-01, 1.79554537e-01],\n",
              "          [5.27560234e-01, 5.08237243e-01, 1.79537594e-01],\n",
              "          [5.27523518e-01, 5.08206129e-01, 1.79520652e-01],\n",
              "          ...,\n",
              "          [6.52399734e-02, 2.86984183e-02, 8.15499667e-03],\n",
              "          [6.52625635e-02, 2.87097152e-02, 8.15782044e-03],\n",
              "          [6.52851611e-02, 2.87210084e-02, 8.16064514e-03]],\n",
              " \n",
              "         [[5.67107916e-01, 5.47500074e-01, 1.90672934e-01],\n",
              "          [5.67076862e-01, 5.47468960e-01, 1.90664440e-01],\n",
              "          [5.67045748e-01, 5.47437906e-01, 1.90655977e-01],\n",
              "          ...,\n",
              "          [4.32171151e-02, 2.09416524e-02, 4.58847312e-03],\n",
              "          [4.32340577e-02, 2.09472999e-02, 4.59129689e-03],\n",
              "          [4.32510041e-02, 2.09529474e-02, 4.59412113e-03]],\n",
              " \n",
              "         [[5.97124040e-01, 5.80588043e-01, 1.98300615e-01],\n",
              "          [5.97101450e-01, 5.80562651e-01, 1.98294982e-01],\n",
              "          [5.97078860e-01, 5.80537260e-01, 1.98289320e-01],\n",
              "          ...,\n",
              "          [2.47175917e-02, 8.00936762e-03, 1.02194969e-03],\n",
              "          [2.47317124e-02, 8.02066363e-03, 1.02477358e-03],\n",
              "          [2.47458331e-02, 8.03195871e-03, 1.02759746e-03]],\n",
              " \n",
              "         ...,\n",
              " \n",
              "         [[6.40196502e-02, 5.61765172e-02, 7.38564972e-03],\n",
              "          [6.40111864e-02, 5.61680421e-02, 7.38000218e-03],\n",
              "          [6.40027076e-02, 5.61595708e-02, 7.37435464e-03],\n",
              "          ...,\n",
              "          [3.96122634e-01, 2.25891203e-01, 9.80392247e-02],\n",
              "          [3.96136761e-01, 2.25894034e-01, 9.80392247e-02],\n",
              "          [3.96150887e-01, 2.25896850e-01, 9.80392247e-02]],\n",
              " \n",
              "         [[7.19652325e-02, 6.13681078e-02, 1.17647070e-02],\n",
              "          [7.19624162e-02, 6.13709316e-02, 1.17647070e-02],\n",
              "          [7.19595850e-02, 6.13737553e-02, 1.17647070e-02],\n",
              "          ...,\n",
              "          [3.80699545e-01, 2.22324684e-01, 9.56297368e-02],\n",
              "          [3.80708009e-01, 2.22327515e-01, 9.56353843e-02],\n",
              "          [3.80716473e-01, 2.22330332e-01, 9.56410319e-02]],\n",
              " \n",
              "         [[7.55317584e-02, 6.18893839e-02, 1.38086062e-02],\n",
              "          [7.55289346e-02, 6.18809126e-02, 1.38029587e-02],\n",
              "          [7.55261108e-02, 6.18724413e-02, 1.37973111e-02],\n",
              "          ...,\n",
              "          [3.69999945e-01, 2.19607860e-01, 9.10457820e-02],\n",
              "          [3.70008409e-01, 2.19607860e-01, 9.10429507e-02],\n",
              "          [3.70016903e-01, 2.19607860e-01, 9.10401344e-02]]],\n",
              " \n",
              " \n",
              "        [[[9.57469568e-02, 3.82021487e-01, 7.93786168e-01],\n",
              "          [9.18988883e-02, 3.77322018e-01, 7.91640997e-01],\n",
              "          [9.74825472e-02, 3.79835516e-01, 8.03364933e-01],\n",
              "          ...,\n",
              "          [1.04253054e-01, 4.12247896e-01, 8.02775443e-01],\n",
              "          [1.04441494e-01, 4.13205624e-01, 8.03921640e-01],\n",
              "          [1.03696391e-01, 4.09578741e-01, 8.01735640e-01]],\n",
              " \n",
              "         [[9.57469568e-02, 3.82021487e-01, 7.93786168e-01],\n",
              "          [9.18988883e-02, 3.77322018e-01, 7.91640997e-01],\n",
              "          [9.74825472e-02, 3.79835516e-01, 8.03364933e-01],\n",
              "          ...,\n",
              "          [1.04253054e-01, 4.12247896e-01, 8.02775443e-01],\n",
              "          [1.04441494e-01, 4.13205624e-01, 8.03921640e-01],\n",
              "          [1.03696391e-01, 4.09578741e-01, 8.01735640e-01]],\n",
              " \n",
              "         [[9.57469568e-02, 3.82021487e-01, 7.93786168e-01],\n",
              "          [9.18988883e-02, 3.77322018e-01, 7.91640997e-01],\n",
              "          [9.74825472e-02, 3.79835516e-01, 8.03364933e-01],\n",
              "          ...,\n",
              "          [1.04253054e-01, 4.12247896e-01, 8.02775443e-01],\n",
              "          [1.04441494e-01, 4.13205624e-01, 8.03921640e-01],\n",
              "          [1.03696391e-01, 4.09578741e-01, 8.01735640e-01]],\n",
              " \n",
              "         ...,\n",
              " \n",
              "         [[6.40710354e-01, 5.67346692e-01, 0.00000000e+00],\n",
              "          [8.85733008e-01, 8.09185028e-01, 4.25701821e-03],\n",
              "          [9.68627512e-01, 8.68361592e-01, 1.68244764e-02],\n",
              "          ...,\n",
              "          [1.01960793e-01, 1.71886072e-01, 1.55053660e-01],\n",
              "          [1.31729260e-01, 2.06239060e-01, 1.85591370e-01],\n",
              "          [1.42461687e-01, 2.16971502e-01, 1.93442076e-01]],\n",
              " \n",
              "         [[6.40710354e-01, 5.67346692e-01, 0.00000000e+00],\n",
              "          [8.85733008e-01, 8.09185028e-01, 4.25701821e-03],\n",
              "          [9.68627512e-01, 8.68361592e-01, 1.68244764e-02],\n",
              "          ...,\n",
              "          [1.01960793e-01, 1.71886072e-01, 1.55053660e-01],\n",
              "          [1.31729260e-01, 2.06239060e-01, 1.85591370e-01],\n",
              "          [1.42461687e-01, 2.16971502e-01, 1.93442076e-01]],\n",
              " \n",
              "         [[6.40710354e-01, 5.67346692e-01, 0.00000000e+00],\n",
              "          [8.85733008e-01, 8.09185028e-01, 4.25701821e-03],\n",
              "          [9.68627512e-01, 8.68361592e-01, 1.68244764e-02],\n",
              "          ...,\n",
              "          [1.01960793e-01, 1.71886072e-01, 1.55053660e-01],\n",
              "          [1.31729260e-01, 2.06239060e-01, 1.85591370e-01],\n",
              "          [1.42461687e-01, 2.16971502e-01, 1.93442076e-01]]],\n",
              " \n",
              " \n",
              "        ...,\n",
              " \n",
              " \n",
              "        [[[9.97843862e-01, 9.97843862e-01, 9.97843862e-01],\n",
              "          [9.97849166e-01, 9.97849166e-01, 9.97849166e-01],\n",
              "          [1.00000000e+00, 1.00000000e+00, 1.00000000e+00],\n",
              "          ...,\n",
              "          [1.00000000e+00, 1.00000000e+00, 1.00000000e+00],\n",
              "          [1.00000000e+00, 1.00000000e+00, 1.00000000e+00],\n",
              "          [1.00000000e+00, 1.00000000e+00, 1.00000000e+00]],\n",
              " \n",
              "         [[1.00000000e+00, 1.00000000e+00, 1.00000000e+00],\n",
              "          [1.00000000e+00, 1.00000000e+00, 1.00000000e+00],\n",
              "          [1.00000000e+00, 1.00000000e+00, 1.00000000e+00],\n",
              "          ...,\n",
              "          [1.00000000e+00, 1.00000000e+00, 1.00000000e+00],\n",
              "          [1.00000000e+00, 1.00000000e+00, 1.00000000e+00],\n",
              "          [1.00000000e+00, 1.00000000e+00, 1.00000000e+00]],\n",
              " \n",
              "         [[1.00000000e+00, 1.00000000e+00, 1.00000000e+00],\n",
              "          [1.00000000e+00, 1.00000000e+00, 1.00000000e+00],\n",
              "          [1.00000000e+00, 1.00000000e+00, 1.00000000e+00],\n",
              "          ...,\n",
              "          [1.00000000e+00, 1.00000000e+00, 1.00000000e+00],\n",
              "          [1.00000000e+00, 1.00000000e+00, 1.00000000e+00],\n",
              "          [1.00000000e+00, 1.00000000e+00, 1.00000000e+00]],\n",
              " \n",
              "         ...,\n",
              " \n",
              "         [[6.65184796e-01, 3.14450473e-01, 5.49252391e-01],\n",
              "          [6.64378166e-01, 3.13488424e-01, 5.47977924e-01],\n",
              "          [6.19734883e-01, 2.46512815e-01, 4.53019232e-01],\n",
              "          ...,\n",
              "          [2.46355414e-01, 1.49241105e-01, 3.44577581e-01],\n",
              "          [2.99274862e-01, 1.88741311e-01, 4.07264769e-01],\n",
              "          [3.04155082e-01, 1.92837447e-01, 4.12942827e-01]],\n",
              " \n",
              "         [[6.14717543e-01, 2.42906645e-01, 4.34948206e-01],\n",
              "          [6.14302516e-01, 2.42799699e-01, 4.34630096e-01],\n",
              "          [5.31797469e-01, 1.86515540e-01, 3.32681060e-01],\n",
              "          ...,\n",
              "          [3.62731367e-01, 2.77318418e-01, 4.89860654e-01],\n",
              "          [7.06303596e-01, 6.43680453e-01, 7.69855738e-01],\n",
              "          [7.30173230e-01, 6.69246495e-01, 7.88120389e-01]],\n",
              " \n",
              "         [[5.21583855e-01, 1.73048720e-01, 3.19297522e-01],\n",
              "          [5.21932364e-01, 1.73329324e-01, 3.19764614e-01],\n",
              "          [5.29140472e-01, 1.85801595e-01, 3.38830978e-01],\n",
              "          ...,\n",
              "          [7.43523180e-01, 7.15575755e-01, 8.03959310e-01],\n",
              "          [9.83214200e-01, 9.74850237e-01, 9.80803490e-01],\n",
              "          [1.00000000e+00, 9.93373156e-01, 9.91716385e-01]]],\n",
              " \n",
              " \n",
              "        [[[2.31372565e-01, 3.45098048e-01, 2.35294141e-02],\n",
              "          [8.26301634e-01, 8.24879587e-01, 4.27206755e-02],\n",
              "          [9.19874609e-01, 9.15953040e-01, 1.62509773e-02],\n",
              "          ...,\n",
              "          [7.37787724e-01, 5.69233954e-01, 3.61832394e-03],\n",
              "          [1.61818892e-01, 1.96644858e-01, 1.84568048e-01],\n",
              "          [1.96078438e-02, 3.13725509e-02, 3.92156886e-03]],\n",
              " \n",
              "         [[6.40772104e-01, 6.23308837e-01, 3.48387957e-02],\n",
              "          [8.55232716e-01, 8.30854177e-01, 2.72996556e-02],\n",
              "          [9.18039262e-01, 9.13689852e-01, 1.36551103e-02],\n",
              "          ...,\n",
              "          [8.26557338e-01, 6.57500625e-01, 5.53269833e-02],\n",
              "          [7.54606903e-01, 5.75699985e-01, 8.12847912e-03],\n",
              "          [6.51932806e-02, 1.18744634e-01, 6.09033667e-02]],\n",
              " \n",
              "         [[9.59491670e-01, 8.82396519e-01, 1.79539137e-02],\n",
              "          [9.37464595e-01, 8.77070725e-01, 6.67022355e-03],\n",
              "          [9.38669205e-01, 9.58779633e-01, 4.78272140e-03],\n",
              "          ...,\n",
              "          [8.33960593e-01, 6.76939547e-01, 2.33711954e-03],\n",
              "          [7.72933841e-01, 6.30805671e-01, 1.21246353e-02],\n",
              "          [7.66880512e-01, 6.53425097e-01, 4.74398807e-02]],\n",
              " \n",
              "         ...,\n",
              " \n",
              "         [[1.01969354e-01, 2.31381133e-01, 1.09812491e-01],\n",
              "          [1.24743745e-01, 2.81022936e-01, 1.44068286e-01],\n",
              "          [1.44287467e-01, 2.78104812e-01, 1.48451269e-01],\n",
              "          ...,\n",
              "          [1.01254456e-01, 1.76089853e-01, 1.07050292e-01],\n",
              "          [3.90964359e-01, 5.03645122e-01, 6.07520305e-02],\n",
              "          [6.12191260e-01, 6.57259703e-01, 0.00000000e+00]],\n",
              " \n",
              "         [[1.18101962e-01, 2.43686944e-01, 9.87026095e-02],\n",
              "          [6.38063475e-02, 2.18904033e-01, 7.46600851e-02],\n",
              "          [1.04924433e-01, 2.38506526e-01, 1.00520983e-01],\n",
              "          ...,\n",
              "          [8.49852264e-02, 1.76923260e-01, 1.29134536e-01],\n",
              "          [3.91818322e-02, 1.11276433e-01, 9.71920490e-02],\n",
              "          [2.94584125e-01, 3.29004616e-01, 3.42290141e-02]],\n",
              " \n",
              "         [[2.11764723e-01, 3.56862754e-01, 2.35294133e-01],\n",
              "          [5.43963797e-02, 1.11214623e-01, 4.33815233e-02],\n",
              "          [1.00912057e-01, 2.21109271e-01, 5.07383794e-02],\n",
              "          ...,\n",
              "          [6.57620877e-02, 1.66290626e-01, 1.15762524e-01],\n",
              "          [2.04661377e-02, 4.83852774e-02, 2.09342986e-02],\n",
              "          [6.27451017e-02, 1.13725498e-01, 8.62745121e-02]]],\n",
              " \n",
              " \n",
              "        [[[1.96078438e-02, 5.09803966e-02, 0.00000000e+00],\n",
              "          [1.36825358e-02, 4.50550839e-02, 0.00000000e+00],\n",
              "          [8.77161045e-03, 4.61303554e-02, 2.99309613e-03],\n",
              "          ...,\n",
              "          [5.57695515e-02, 9.10636708e-02, 1.48186861e-02],\n",
              "          [5.79255000e-02, 9.32196230e-02, 1.08666755e-02],\n",
              "          [5.49019650e-02, 9.01960805e-02, 7.84313772e-03]],\n",
              " \n",
              "         [[1.96078438e-02, 5.09803966e-02, 0.00000000e+00],\n",
              "          [1.36825358e-02, 4.50550839e-02, 0.00000000e+00],\n",
              "          [8.77161045e-03, 4.61303554e-02, 2.99309613e-03],\n",
              "          ...,\n",
              "          [5.57695515e-02, 9.10636708e-02, 1.48186861e-02],\n",
              "          [5.79255000e-02, 9.32196230e-02, 1.08666755e-02],\n",
              "          [5.49019650e-02, 9.01960805e-02, 7.84313772e-03]],\n",
              " \n",
              "         [[1.96078438e-02, 5.09803966e-02, 0.00000000e+00],\n",
              "          [1.36825358e-02, 4.50550839e-02, 0.00000000e+00],\n",
              "          [8.77161045e-03, 4.61303554e-02, 2.99309613e-03],\n",
              "          ...,\n",
              "          [5.57695515e-02, 9.10636708e-02, 1.48186861e-02],\n",
              "          [5.79255000e-02, 9.32196230e-02, 1.08666755e-02],\n",
              "          [5.49019650e-02, 9.01960805e-02, 7.84313772e-03]],\n",
              " \n",
              "         ...,\n",
              " \n",
              "         [[0.00000000e+00, 0.00000000e+00, 0.00000000e+00],\n",
              "          [0.00000000e+00, 0.00000000e+00, 0.00000000e+00],\n",
              "          [0.00000000e+00, 0.00000000e+00, 0.00000000e+00],\n",
              "          ...,\n",
              "          [4.31024246e-02, 8.75584856e-02, 0.00000000e+00],\n",
              "          [7.23843053e-02, 1.09474480e-01, 8.98031110e-04],\n",
              "          [7.84313753e-02, 1.21568635e-01, 3.92156886e-03]],\n",
              " \n",
              "         [[0.00000000e+00, 0.00000000e+00, 0.00000000e+00],\n",
              "          [0.00000000e+00, 0.00000000e+00, 0.00000000e+00],\n",
              "          [0.00000000e+00, 0.00000000e+00, 0.00000000e+00],\n",
              "          ...,\n",
              "          [4.31024246e-02, 8.75584856e-02, 0.00000000e+00],\n",
              "          [7.23843053e-02, 1.09474480e-01, 8.98031110e-04],\n",
              "          [7.84313753e-02, 1.21568635e-01, 3.92156886e-03]],\n",
              " \n",
              "         [[0.00000000e+00, 0.00000000e+00, 0.00000000e+00],\n",
              "          [0.00000000e+00, 0.00000000e+00, 0.00000000e+00],\n",
              "          [0.00000000e+00, 0.00000000e+00, 0.00000000e+00],\n",
              "          ...,\n",
              "          [4.31024246e-02, 8.75584856e-02, 0.00000000e+00],\n",
              "          [7.23843053e-02, 1.09474480e-01, 8.98031110e-04],\n",
              "          [7.84313753e-02, 1.21568635e-01, 3.92156886e-03]]]],\n",
              "       dtype=float32), array([[0., 0., 1., 0., 0.],\n",
              "        [0., 1., 0., 0., 0.],\n",
              "        [0., 0., 0., 1., 0.],\n",
              "        [0., 1., 0., 0., 0.],\n",
              "        [0., 1., 0., 0., 0.],\n",
              "        [0., 0., 0., 1., 0.],\n",
              "        [0., 0., 1., 0., 0.],\n",
              "        [0., 0., 1., 0., 0.],\n",
              "        [0., 0., 1., 0., 0.],\n",
              "        [0., 0., 0., 0., 1.],\n",
              "        [0., 0., 1., 0., 0.],\n",
              "        [0., 1., 0., 0., 0.],\n",
              "        [0., 0., 0., 0., 1.],\n",
              "        [0., 0., 1., 0., 0.],\n",
              "        [0., 0., 1., 0., 0.],\n",
              "        [0., 0., 0., 0., 1.],\n",
              "        [0., 0., 0., 0., 1.],\n",
              "        [0., 0., 1., 0., 0.],\n",
              "        [0., 0., 0., 1., 0.],\n",
              "        [1., 0., 0., 0., 0.]], dtype=float32))"
            ]
          },
          "metadata": {
            "tags": []
          },
          "execution_count": 37
        }
      ]
    },
    {
      "cell_type": "code",
      "metadata": {
        "id": "SZweJVf9eear"
      },
      "source": [
        ""
      ],
      "execution_count": null,
      "outputs": []
    }
  ]
}