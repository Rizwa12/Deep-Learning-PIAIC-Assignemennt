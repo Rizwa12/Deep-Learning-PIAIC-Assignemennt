{
  "cells": [
    {
      "cell_type": "code",
      "execution_count": null,
      "metadata": {
        "id": "U0tvTs0pbmR7"
      },
      "outputs": [],
      "source": [
        "\n",
        "import numpy as np\n",
        "import pandas as pd\n",
        "import tensorflow as tf\n"
      ]
    },
    {
      "cell_type": "code",
      "execution_count": null,
      "metadata": {
        "colab": {
          "base_uri": "https://localhost:8080/"
        },
        "id": "e49zS9X8e-fx",
        "outputId": "609c2a6f-338d-4853-b1d4-79543d8e1091"
      },
      "outputs": [
        {
          "name": "stdout",
          "output_type": "stream",
          "text": [
            "Mounted at /content/drive\n"
          ]
        }
      ],
      "source": [
        "from google.colab import drive\n",
        "drive.mount('/content/drive')"
      ]
    },
    {
      "cell_type": "code",
      "execution_count": null,
      "metadata": {
        "id": "J9RpEhPWR1yZ"
      },
      "outputs": [],
      "source": [
        "train_dir = \"/content/drive/MyDrive/DataSet/train/\"\n",
        "test_dir = \"/content/drive/MyDrive/DataSet/test/\""
      ]
    },
    {
      "cell_type": "code",
      "execution_count": null,
      "metadata": {
        "colab": {
          "base_uri": "https://localhost:8080/"
        },
        "id": "gujWJXL6TYiE",
        "outputId": "3775f4b6-40aa-4817-d34b-76ff9fcdeda3"
      },
      "outputs": [
        {
          "name": "stdout",
          "output_type": "stream",
          "text": [
            "Collecting split-folders\n",
            "  Downloading split_folders-0.5.1-py3-none-any.whl (8.4 kB)\n",
            "Installing collected packages: split-folders\n",
            "Successfully installed split-folders-0.5.1\n"
          ]
        }
      ],
      "source": [
        "!pip install split-folders"
      ]
    },
    {
      "cell_type": "code",
      "execution_count": null,
      "metadata": {
        "colab": {
          "base_uri": "https://localhost:8080/"
        },
        "id": "A_KxDeKWV5FK",
        "outputId": "765b428d-c32e-4ea0-a37f-c05c78eb7cab"
      },
      "outputs": [
        {
          "name": "stderr",
          "output_type": "stream",
          "text": [
            "Copying files: 294 files [00:02, 118.00 files/s]\n"
          ]
        }
      ],
      "source": [
        "import splitfolders\n",
        "\n",
        "train_dir = \"/content/drive/MyDrive/DataSet/train/\"\n",
        "output_dir = \"/content/drive/MyDrive/DataSet/data/\"\n",
        "\n",
        "# Split the data into training and validation sets\n",
        "splitfolders.ratio(train_dir, output=output_dir, seed=1337, ratio=(0.9, 0.10))"
      ]
    },
    {
      "cell_type": "code",
      "execution_count": null,
      "metadata": {
        "id": "ukfC8NqJTuEK"
      },
      "outputs": [],
      "source": []
    },
    {
      "cell_type": "code",
      "execution_count": null,
      "metadata": {
        "id": "bK4TjjyVa0n_"
      },
      "outputs": [],
      "source": [
        "from keras.preprocessing.image import ImageDataGenerator\n",
        "train_datagen = ImageDataGenerator(rescale=1./255)\n",
        "validation_datagen = ImageDataGenerator(rescale=1./255)\n",
        "test_datagen = ImageDataGenerator(rescale = 1./255)\n",
        "\n"
      ]
    },
    {
      "cell_type": "code",
      "execution_count": null,
      "metadata": {
        "id": "toQZh0G9bok0"
      },
      "outputs": [],
      "source": [
        "\n",
        "batch_size = 30"
      ]
    },
    {
      "cell_type": "code",
      "execution_count": null,
      "metadata": {
        "colab": {
          "base_uri": "https://localhost:8080/"
        },
        "id": "Tst7-NSdcMC8",
        "outputId": "8d336666-bb58-4bc5-ac9e-83a6e639ea26"
      },
      "outputs": [
        {
          "name": "stdout",
          "output_type": "stream",
          "text": [
            "Found 264 images belonging to 2 classes.\n",
            "Found 30 images belonging to 2 classes.\n"
          ]
        }
      ],
      "source": [
        "train_generator = train_datagen.flow_from_directory(\n",
        "    os.path.join(output_dir, 'train'),\n",
        "    target_size=(100, 100),\n",
        "    batch_size=batch_size,\n",
        "    class_mode='binary'\n",
        ")\n",
        "\n",
        "validation_generator = validation_datagen.flow_from_directory(\n",
        "    os.path.join(output_dir, 'val'),\n",
        "    target_size=(100, 100),\n",
        "    batch_size=batch_size,\n",
        "    class_mode='binary'\n",
        ")\n"
      ]
    },
    {
      "cell_type": "code",
      "execution_count": null,
      "metadata": {
        "id": "LZ67Mf0YkWjs"
      },
      "outputs": [],
      "source": [
        "from keras import layers\n",
        "from keras import models\n",
        "model = models.Sequential()\n",
        "model.add(layers.Conv2D(32,(3,3),activation='relu',\n",
        "input_shape = (100,100,3)))\n",
        "model.add(layers.MaxPooling2D((2,2)))\n",
        "model.add(layers.Conv2D(64,(3,3),activation='relu'))\n",
        "model.add(layers.MaxPooling2D((2,2)))\n",
        "model.add(layers.Conv2D(128,(3,3),activation='relu'))\n",
        "model.add(layers.MaxPooling2D((2,2)))\n",
        "model.add(layers.Conv2D(128, (3, 3), activation='relu'))\n",
        "model.add(layers.MaxPooling2D((2, 2)))\n",
        "model.add(layers.Flatten())\n",
        "model.add(layers.Dropout(0.5))\n",
        "model.add(layers.Dense(512, activation='relu'))\n",
        "model.add(layers.Dense(1, activation='sigmoid'))\n"
      ]
    },
    {
      "cell_type": "code",
      "execution_count": null,
      "metadata": {
        "colab": {
          "base_uri": "https://localhost:8080/"
        },
        "id": "-_RZ6l9LnHEj",
        "outputId": "3d0cfa07-1fd4-427a-8ba3-6870fbc30e4b"
      },
      "outputs": [
        {
          "name": "stdout",
          "output_type": "stream",
          "text": [
            "Model: \"sequential\"\n",
            "_________________________________________________________________\n",
            " Layer (type)                Output Shape              Param #   \n",
            "=================================================================\n",
            " conv2d (Conv2D)             (None, 98, 98, 32)        896       \n",
            "                                                                 \n",
            " max_pooling2d (MaxPooling2D  (None, 49, 49, 32)       0         \n",
            " )                                                               \n",
            "                                                                 \n",
            " conv2d_1 (Conv2D)           (None, 47, 47, 64)        18496     \n",
            "                                                                 \n",
            " max_pooling2d_1 (MaxPooling  (None, 23, 23, 64)       0         \n",
            " 2D)                                                             \n",
            "                                                                 \n",
            " conv2d_2 (Conv2D)           (None, 21, 21, 128)       73856     \n",
            "                                                                 \n",
            " max_pooling2d_2 (MaxPooling  (None, 10, 10, 128)      0         \n",
            " 2D)                                                             \n",
            "                                                                 \n",
            " conv2d_3 (Conv2D)           (None, 8, 8, 128)         147584    \n",
            "                                                                 \n",
            " max_pooling2d_3 (MaxPooling  (None, 4, 4, 128)        0         \n",
            " 2D)                                                             \n",
            "                                                                 \n",
            " flatten (Flatten)           (None, 2048)              0         \n",
            "                                                                 \n",
            " dropout (Dropout)           (None, 2048)              0         \n",
            "                                                                 \n",
            " dense (Dense)               (None, 512)               1049088   \n",
            "                                                                 \n",
            " dense_1 (Dense)             (None, 1)                 513       \n",
            "                                                                 \n",
            "=================================================================\n",
            "Total params: 1,290,433\n",
            "Trainable params: 1,290,433\n",
            "Non-trainable params: 0\n",
            "_________________________________________________________________\n"
          ]
        }
      ],
      "source": [
        "model.summary()"
      ]
    },
    {
      "cell_type": "code",
      "execution_count": null,
      "metadata": {
        "colab": {
          "base_uri": "https://localhost:8080/"
        },
        "id": "ltSia1J1nLPp",
        "outputId": "2b123b64-31a9-4e10-a984-f45dfc95e522"
      },
      "outputs": [
        {
          "name": "stdout",
          "output_type": "stream",
          "text": [
            "8 1\n"
          ]
        }
      ],
      "source": [
        "from keras import optimizers\n",
        "\n",
        "model.compile(\n",
        "    loss='binary_crossentropy',\n",
        "    optimizer=optimizers.RMSprop(learning_rate=1e-4),  # Use learning_rate instead of lr\n",
        "    metrics=['acc']\n",
        ")\n",
        "\n",
        "steps_per_epoch = 264 // batch_size\n",
        "validation_steps = 30 // batch_size\n",
        "print(steps_per_epoch, validation_steps)"
      ]
    },
    {
      "cell_type": "code",
      "execution_count": null,
      "metadata": {
        "colab": {
          "base_uri": "https://localhost:8080/"
        },
        "id": "mq6XezRZpPHd",
        "outputId": "0dde0b31-94e1-408d-f39e-eac045b5dffb"
      },
      "outputs": [
        {
          "name": "stdout",
          "output_type": "stream",
          "text": [
            "Epoch 1/60\n",
            "8/8 [==============================] - 1s 118ms/step - loss: 0.6777 - acc: 0.5958 - val_loss: 0.6561 - val_acc: 0.5667\n",
            "Epoch 2/60\n",
            "8/8 [==============================] - 1s 94ms/step - loss: 0.6611 - acc: 0.6154 - val_loss: 0.6528 - val_acc: 0.7333\n",
            "Epoch 3/60\n",
            "8/8 [==============================] - 1s 88ms/step - loss: 0.6525 - acc: 0.6538 - val_loss: 0.6246 - val_acc: 0.6000\n",
            "Epoch 4/60\n",
            "8/8 [==============================] - 1s 89ms/step - loss: 0.6241 - acc: 0.7009 - val_loss: 0.6366 - val_acc: 0.6000\n",
            "Epoch 5/60\n",
            "8/8 [==============================] - 1s 78ms/step - loss: 0.6211 - acc: 0.6538 - val_loss: 0.5915 - val_acc: 0.6333\n",
            "Epoch 6/60\n",
            "8/8 [==============================] - 1s 87ms/step - loss: 0.6025 - acc: 0.7009 - val_loss: 0.5554 - val_acc: 0.7667\n",
            "Epoch 7/60\n",
            "8/8 [==============================] - 1s 88ms/step - loss: 0.6114 - acc: 0.6667 - val_loss: 0.5756 - val_acc: 0.7333\n",
            "Epoch 8/60\n",
            "8/8 [==============================] - 1s 90ms/step - loss: 0.6077 - acc: 0.7009 - val_loss: 0.5432 - val_acc: 0.6667\n",
            "Epoch 9/60\n",
            "8/8 [==============================] - 1s 91ms/step - loss: 0.5880 - acc: 0.6752 - val_loss: 0.5455 - val_acc: 0.7333\n",
            "Epoch 10/60\n",
            "8/8 [==============================] - 1s 85ms/step - loss: 0.5571 - acc: 0.7094 - val_loss: 0.5235 - val_acc: 0.7333\n",
            "Epoch 11/60\n",
            "8/8 [==============================] - 1s 88ms/step - loss: 0.5733 - acc: 0.7179 - val_loss: 0.5072 - val_acc: 0.7333\n",
            "Epoch 12/60\n",
            "8/8 [==============================] - 1s 138ms/step - loss: 0.5421 - acc: 0.7393 - val_loss: 0.5197 - val_acc: 0.7000\n",
            "Epoch 13/60\n",
            "8/8 [==============================] - 1s 85ms/step - loss: 0.5497 - acc: 0.7094 - val_loss: 0.5279 - val_acc: 0.8000\n",
            "Epoch 14/60\n",
            "8/8 [==============================] - 1s 98ms/step - loss: 0.5383 - acc: 0.7436 - val_loss: 0.4995 - val_acc: 0.7000\n",
            "Epoch 15/60\n",
            "8/8 [==============================] - 1s 106ms/step - loss: 0.5135 - acc: 0.7479 - val_loss: 0.4773 - val_acc: 0.7667\n",
            "Epoch 16/60\n",
            "8/8 [==============================] - 1s 100ms/step - loss: 0.5343 - acc: 0.7265 - val_loss: 0.4801 - val_acc: 0.7667\n",
            "Epoch 17/60\n",
            "8/8 [==============================] - 1s 86ms/step - loss: 0.4952 - acc: 0.7521 - val_loss: 0.4669 - val_acc: 0.7667\n",
            "Epoch 18/60\n",
            "8/8 [==============================] - 1s 81ms/step - loss: 0.5144 - acc: 0.7479 - val_loss: 0.4926 - val_acc: 0.8333\n",
            "Epoch 19/60\n",
            "8/8 [==============================] - 1s 84ms/step - loss: 0.5029 - acc: 0.7607 - val_loss: 0.4837 - val_acc: 0.7000\n",
            "Epoch 20/60\n",
            "8/8 [==============================] - 1s 85ms/step - loss: 0.4826 - acc: 0.7564 - val_loss: 0.4787 - val_acc: 0.7000\n",
            "Epoch 21/60\n",
            "8/8 [==============================] - 1s 81ms/step - loss: 0.5259 - acc: 0.7607 - val_loss: 0.4615 - val_acc: 0.7333\n",
            "Epoch 22/60\n",
            "8/8 [==============================] - 1s 81ms/step - loss: 0.5607 - acc: 0.7009 - val_loss: 0.4709 - val_acc: 0.8000\n",
            "Epoch 23/60\n",
            "8/8 [==============================] - 1s 92ms/step - loss: 0.4902 - acc: 0.7735 - val_loss: 0.4614 - val_acc: 0.7333\n",
            "Epoch 24/60\n",
            "8/8 [==============================] - 1s 89ms/step - loss: 0.4792 - acc: 0.7778 - val_loss: 0.4522 - val_acc: 0.7667\n",
            "Epoch 25/60\n",
            "8/8 [==============================] - 1s 84ms/step - loss: 0.4816 - acc: 0.7607 - val_loss: 0.4759 - val_acc: 0.8333\n",
            "Epoch 26/60\n",
            "8/8 [==============================] - 1s 80ms/step - loss: 0.4432 - acc: 0.7821 - val_loss: 0.4422 - val_acc: 0.7667\n",
            "Epoch 27/60\n",
            "8/8 [==============================] - 1s 83ms/step - loss: 0.5040 - acc: 0.7479 - val_loss: 0.4727 - val_acc: 0.8667\n",
            "Epoch 28/60\n",
            "8/8 [==============================] - 1s 87ms/step - loss: 0.4939 - acc: 0.7500 - val_loss: 0.4889 - val_acc: 0.7000\n",
            "Epoch 29/60\n",
            "8/8 [==============================] - 1s 108ms/step - loss: 0.4823 - acc: 0.7692 - val_loss: 0.6700 - val_acc: 0.6667\n",
            "Epoch 30/60\n",
            "8/8 [==============================] - 1s 105ms/step - loss: 0.5007 - acc: 0.7479 - val_loss: 0.4603 - val_acc: 0.7333\n",
            "Epoch 31/60\n",
            "8/8 [==============================] - 1s 90ms/step - loss: 0.4840 - acc: 0.7863 - val_loss: 0.4639 - val_acc: 0.6667\n",
            "Epoch 32/60\n",
            "8/8 [==============================] - 1s 92ms/step - loss: 0.4559 - acc: 0.8208 - val_loss: 0.4372 - val_acc: 0.7333\n",
            "Epoch 33/60\n",
            "8/8 [==============================] - 1s 81ms/step - loss: 0.4515 - acc: 0.7991 - val_loss: 0.4334 - val_acc: 0.7333\n",
            "Epoch 34/60\n",
            "8/8 [==============================] - 1s 78ms/step - loss: 0.4511 - acc: 0.8077 - val_loss: 0.6649 - val_acc: 0.6333\n",
            "Epoch 35/60\n",
            "8/8 [==============================] - 1s 94ms/step - loss: 0.4170 - acc: 0.7991 - val_loss: 0.4615 - val_acc: 0.7333\n",
            "Epoch 36/60\n",
            "8/8 [==============================] - 1s 87ms/step - loss: 0.3837 - acc: 0.8547 - val_loss: 0.4310 - val_acc: 0.7333\n",
            "Epoch 37/60\n",
            "8/8 [==============================] - 1s 90ms/step - loss: 0.5090 - acc: 0.7778 - val_loss: 0.4522 - val_acc: 0.8000\n",
            "Epoch 38/60\n",
            "8/8 [==============================] - 1s 87ms/step - loss: 0.4005 - acc: 0.8248 - val_loss: 0.4333 - val_acc: 0.8333\n",
            "Epoch 39/60\n",
            "8/8 [==============================] - 1s 79ms/step - loss: 0.4128 - acc: 0.8291 - val_loss: 0.4437 - val_acc: 0.7667\n",
            "Epoch 40/60\n",
            "8/8 [==============================] - 1s 83ms/step - loss: 0.4069 - acc: 0.8042 - val_loss: 0.4444 - val_acc: 0.7667\n",
            "Epoch 41/60\n",
            "8/8 [==============================] - 1s 128ms/step - loss: 0.4249 - acc: 0.8077 - val_loss: 0.4316 - val_acc: 0.7667\n",
            "Epoch 42/60\n",
            "8/8 [==============================] - 1s 128ms/step - loss: 0.3800 - acc: 0.8500 - val_loss: 0.4219 - val_acc: 0.7667\n",
            "Epoch 43/60\n",
            "8/8 [==============================] - 2s 277ms/step - loss: 0.4459 - acc: 0.7778 - val_loss: 0.4254 - val_acc: 0.7667\n",
            "Epoch 44/60\n",
            "8/8 [==============================] - 1s 110ms/step - loss: 0.3695 - acc: 0.8248 - val_loss: 0.4254 - val_acc: 0.8333\n",
            "Epoch 45/60\n",
            "8/8 [==============================] - 1s 102ms/step - loss: 0.3780 - acc: 0.8376 - val_loss: 0.4915 - val_acc: 0.7333\n",
            "Epoch 46/60\n",
            "8/8 [==============================] - 1s 93ms/step - loss: 0.3334 - acc: 0.8590 - val_loss: 0.4150 - val_acc: 0.7667\n",
            "Epoch 47/60\n",
            "8/8 [==============================] - 1s 83ms/step - loss: 0.4097 - acc: 0.7991 - val_loss: 0.4209 - val_acc: 0.7333\n",
            "Epoch 48/60\n",
            "8/8 [==============================] - 1s 93ms/step - loss: 0.3379 - acc: 0.8675 - val_loss: 0.4512 - val_acc: 0.7000\n",
            "Epoch 49/60\n",
            "8/8 [==============================] - 1s 77ms/step - loss: 0.3615 - acc: 0.8333 - val_loss: 0.4936 - val_acc: 0.8333\n",
            "Epoch 50/60\n",
            "8/8 [==============================] - 1s 81ms/step - loss: 0.3855 - acc: 0.8162 - val_loss: 0.4289 - val_acc: 0.7667\n",
            "Epoch 51/60\n",
            "8/8 [==============================] - 1s 80ms/step - loss: 0.3691 - acc: 0.8376 - val_loss: 0.4183 - val_acc: 0.7333\n",
            "Epoch 52/60\n",
            "8/8 [==============================] - 1s 82ms/step - loss: 0.3119 - acc: 0.8932 - val_loss: 0.4220 - val_acc: 0.8000\n",
            "Epoch 53/60\n",
            "8/8 [==============================] - 1s 90ms/step - loss: 0.3382 - acc: 0.8750 - val_loss: 0.4939 - val_acc: 0.8333\n",
            "Epoch 54/60\n",
            "8/8 [==============================] - 1s 92ms/step - loss: 0.3663 - acc: 0.8162 - val_loss: 0.4145 - val_acc: 0.8000\n",
            "Epoch 55/60\n",
            "8/8 [==============================] - 1s 92ms/step - loss: 0.3137 - acc: 0.8803 - val_loss: 0.4497 - val_acc: 0.8000\n",
            "Epoch 56/60\n",
            "8/8 [==============================] - 1s 95ms/step - loss: 0.3490 - acc: 0.8333 - val_loss: 0.4296 - val_acc: 0.7333\n",
            "Epoch 57/60\n",
            "8/8 [==============================] - 1s 100ms/step - loss: 0.3264 - acc: 0.8803 - val_loss: 0.7174 - val_acc: 0.7667\n",
            "Epoch 58/60\n",
            "8/8 [==============================] - 1s 99ms/step - loss: 0.3741 - acc: 0.8162 - val_loss: 0.4057 - val_acc: 0.7667\n",
            "Epoch 59/60\n",
            "8/8 [==============================] - 1s 101ms/step - loss: 0.3130 - acc: 0.8542 - val_loss: 0.4468 - val_acc: 0.7333\n",
            "Epoch 60/60\n",
            "8/8 [==============================] - 1s 88ms/step - loss: 0.2901 - acc: 0.8889 - val_loss: 0.5079 - val_acc: 0.8333\n"
          ]
        }
      ],
      "source": [
        "history = model.fit(train_generator ,steps_per_epoch = steps_per_epoch ,\n",
        "                    epochs=60, validation_data= validation_generator,validation_steps=validation_steps )\n",
        "\n"
      ]
    },
    {
      "cell_type": "code",
      "execution_count": null,
      "metadata": {
        "colab": {
          "base_uri": "https://localhost:8080/",
          "height": 887
        },
        "id": "ghPt9qAKkkOx",
        "outputId": "fa7aadb5-0544-42fc-8a92-89b9a87290bb"
      },
      "outputs": [
        {
          "data": {
            "image/png": "[encoded data removed]",
            "text/plain": [
              "<Figure size 640x480 with 1 Axes>"
            ]
          },
          "metadata": {},
          "output_type": "display_data"
        },
        {
          "data": {
            "image/png": "[encoded data removed]",
            "text/plain": [
              "<Figure size 640x480 with 1 Axes>"
            ]
          },
          "metadata": {},
          "output_type": "display_data"
        }
      ],
      "source": [
        "import matplotlib.pyplot as plt\n",
        "acc = history.history['acc']\n",
        "val_acc = history.history['val_acc']\n",
        "loss = history.history['loss']\n",
        "val_loss = history.history['val_loss']\n",
        "epochs = range(1, len(acc) + 1)\n",
        "plt.plot(epochs, acc, 'bo', label='Training acc')\n",
        "plt.plot(epochs, val_acc, 'b', label='Validation acc')\n",
        "plt.title('Training and validation accuracy')\n",
        "plt.legend()\n",
        "plt.figure()\n",
        "plt.plot(epochs, loss, 'bo', label='Training loss')\n",
        "plt.plot(epochs, val_loss, 'b', label='Validation loss')\n",
        "plt.title('Training and validation loss')\n",
        "plt.legend()\n",
        "plt.show()"
      ]
    },
    {
      "cell_type": "code",
      "execution_count": null,
      "metadata": {
        "colab": {
          "base_uri": "https://localhost:8080/"
        },
        "id": "oWeKPiBXq6zU",
        "outputId": "f53da5cb-7524-4f1a-cffe-e4406a800bc5"
      },
      "outputs": [
        {
          "name": "stdout",
          "output_type": "stream",
          "text": [
            "Found 97 images belonging to 2 classes.\n"
          ]
        }
      ],
      "source": [
        "test_generator = test_datagen.flow_from_directory(\n",
        "    test_dir,\n",
        "    target_size=(100, 100),\n",
        "    batch_size=batch_size,\n",
        "    class_mode='binary'\n",
        ")"
      ]
    },
    {
      "cell_type": "code",
      "execution_count": null,
      "metadata": {
        "colab": {
          "base_uri": "https://localhost:8080/"
        },
        "id": "YUy2IJzHssiK",
        "outputId": "8fee7a56-0a64-4a31-b859-0105589c0d6b"
      },
      "outputs": [
        {
          "name": "stdout",
          "output_type": "stream",
          "text": [
            "4\n"
          ]
        }
      ],
      "source": [
        "test_steps = len(test_generator)\n",
        "print(test_steps)"
      ]
    },
    {
      "cell_type": "code",
      "execution_count": null,
      "metadata": {
        "colab": {
          "base_uri": "https://localhost:8080/"
        },
        "id": "EtH9unmXszmV",
        "outputId": "5cec2fce-e610-4887-91c1-3f9340c29e01"
      },
      "outputs": [
        {
          "name": "stdout",
          "output_type": "stream",
          "text": [
            "4/4 [==============================] - 19s 6s/step - loss: 0.4835 - acc: 0.7835\n",
            "Test Loss: 0.4834985136985779\n",
            "Test Accuracy: 0.7835051417350769\n"
          ]
        }
      ],
      "source": [
        "test_loss, test_acc = model.evaluate(test_generator, steps=test_steps)\n",
        "print(\"Test Loss:\", test_loss)\n",
        "print(\"Test Accuracy:\", test_acc)\n"
      ]
    },
    {
      "cell_type": "code",
      "execution_count": null,
      "metadata": {
        "colab": {
          "base_uri": "https://localhost:8080/",
          "height": 963
        },
        "id": "QR9nQSipyRq1",
        "outputId": "1d906210-b6cc-4639-8f59-a52e8b06490a"
      },
      "outputs": [
        {
          "name": "stdout",
          "output_type": "stream",
          "text": [
            "4/4 [==============================] - 0s 41ms/step\n"
          ]
        },
        {
          "data": {
            "image/png": "[encoded data removed]",
            "text/plain": [
              "<Figure size 600x600 with 1 Axes>"
            ]
          },
          "metadata": {},
          "output_type": "display_data"
        },
        {
          "name": "stdout",
          "output_type": "stream",
          "text": [
            "Original Predicted Probabilities:\n",
            "[0.5530835  0.97346276 0.85743487 0.91186756 0.09006566 0.3399972\n",
            " 0.77415043 0.05139321 0.21763086 0.98865753 0.9952911  0.70288765\n",
            " 0.09672346 0.90820014 0.8099747  0.09277906 0.08954481 0.28185764\n",
            " 0.92220247 0.9708137  0.60612655 0.5877706  0.7789437  0.1944818\n",
            " 0.97457707 0.24497373 0.5500251  0.3545043  0.6886923  0.14351179\n",
            " 0.22027285 0.8422841  0.99147695 0.46596482 0.14960746 0.9758346\n",
            " 0.9443289  0.9537479  0.64951473 0.27731058 0.9564648  0.99643683\n",
            " 0.90397286 0.22057778 0.39736447 0.9256597  0.18917538 0.97537076\n",
            " 0.9867589  0.9677665  0.41209722 0.51589507 0.42975748 0.04156835\n",
            " 0.8531703  0.11577625 0.10191795 0.59991354 0.18921255 0.8248043\n",
            " 0.04679452 0.7357961  0.9845367  0.25859275 0.2409193  0.98320836\n",
            " 0.9045005  0.27572045 0.06414423 0.45369774 0.14970374 0.8745112\n",
            " 0.4119286  0.32899806 0.96540767 0.45229486 0.32313213 0.48288524\n",
            " 0.6664581  0.87114763 0.21614066 0.7473531  0.33419797 0.45107338\n",
            " 0.4362591  0.16158508 0.959676   0.95885915 0.65051955 0.8413917\n",
            " 0.8640654  0.85159445 0.9257231  0.15459958 0.09593583 0.31286567\n",
            " 0.9942934 ]\n",
            "True labels:\n",
            "[0 0 0 0 0 0 0 0 0 0 0 0 0 0 0 0 0 0 0 0 0 0 0 0 0 0 0 0 0 0 0 0 0 0 0 0 0\n",
            " 0 0 0 0 0 0 0 0 0 0 0 0 0 0 0 0 0 1 1 1 1 1 1 1 1 1 1 1 1 1 1 1 1 1 1 1 1\n",
            " 1 1 1 1 1 1 1 1 1 1 1 1 1 1 1 1 1 1 1 1 1 1 1]\n"
          ]
        }
      ],
      "source": [
        "import numpy as np\n",
        "import matplotlib.pyplot as plt\n",
        "import seaborn as sns\n",
        "from sklearn.metrics import confusion_matrix\n",
        "\n",
        "# Assuming you already have the test_generator and test_steps defined from the previous code\n",
        "\n",
        "# Get the model's predictions for the test data\n",
        "y_pred_prob = model.predict(test_generator, steps=test_steps)\n",
        "\n",
        "# Convert probabilities to binary predictions using a threshold (e.g., 0.5)\n",
        "y_pred = np.round(y_pred_prob).flatten()\n",
        "\n",
        "# Get true labels from the test generator\n",
        "y_true = test_generator.classes\n",
        "\n",
        "# Create the confusion matrix\n",
        "cm = confusion_matrix(y_true, y_pred)\n",
        "\n",
        "# Define colors for the heatmap\n",
        "cmap = sns.color_palette([\"blue\", \"yellow\", \"orange\", \"red\"])  # Color map for the heatmap\n",
        "\n",
        "# Display the confusion matrix as a heatmap with colored cells\n",
        "plt.figure(figsize=(6, 6))\n",
        "sns.heatmap(cm, annot=True, cmap=cmap, fmt=\"d\",\n",
        "            xticklabels=[\"Class 0\", \"Class 1\"], yticklabels=[\"Class 0\", \"Class 1\"],\n",
        "            annot_kws={\"color\": \"black\"}, cbar=False, square=True)\n",
        "plt.xlabel(\"Predicted Label\")\n",
        "plt.ylabel(\"True Label\")\n",
        "plt.title(\"Confusion Matrix\")\n",
        "plt.show()\n",
        "\n",
        "# Print the original predicted probabilities and the true labels side by side\n",
        "print(\"Original Predicted Probabilities:\")\n",
        "print(y_pred_prob.flatten())\n",
        "print(\"True labels:\")\n",
        "print(y_true)\n"
      ]
    },
    {
      "attachments": {},
      "cell_type": "markdown",
      "metadata": {
        "id": "4LHeWCRQninv"
      },
      "source": []
    }
  ],
  "metadata": {
    "accelerator": "GPU",
    "colab": {
      "gpuType": "T4",
      "provenance": []
    },
    "kernelspec": {
      "display_name": "Python 3",
      "name": "python3"
    },
    "language_info": {
      "name": "python"
    }
  },
  "nbformat": 4,
  "nbformat_minor": 0
}
